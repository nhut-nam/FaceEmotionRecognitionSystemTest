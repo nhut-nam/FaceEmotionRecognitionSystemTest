{
 "cells": [
  {
   "cell_type": "code",
   "execution_count": 1,
   "id": "2d4fb441",
   "metadata": {},
   "outputs": [],
   "source": [
    "import os"
   ]
  },
  {
   "cell_type": "code",
   "execution_count": 2,
   "id": "44925239",
   "metadata": {},
   "outputs": [
    {
     "data": {
      "text/plain": [
       "'f:\\\\ProjectAI\\\\FaceEmotionRecognitionSystem'"
      ]
     },
     "execution_count": 2,
     "metadata": {},
     "output_type": "execute_result"
    }
   ],
   "source": [
    "os.chdir(\"../\")\n",
    "%pwd"
   ]
  },
  {
   "cell_type": "code",
   "execution_count": 3,
   "id": "a0f8b8b8",
   "metadata": {},
   "outputs": [],
   "source": [
    "from dataclasses import dataclass\n",
    "from pathlib import Path\n",
    "\n",
    "@dataclass\n",
    "class TrainingConfig:\n",
    "    root_dir: Path\n",
    "    trained_model_path: Path \n",
    "    updated_base_model_path: Path\n",
    "    training_data_path: Path\n",
    "    dataset_path: Path\n",
    "    model_name: str\n",
    "    params_epochs: int\n",
    "    params_batch_size: int\n",
    "    params_is_augmentation: bool\n",
    "    params_learning_rate: float\n",
    "    params_num_classes: int\n",
    "    params_image_size: list"
   ]
  },
  {
   "cell_type": "code",
   "execution_count": 4,
   "id": "242e00f9",
   "metadata": {},
   "outputs": [],
   "source": [
    "from FacialExpressionRecognition.constants import *\n",
    "from FacialExpressionRecognition.utils.common import read_yaml, create_directories"
   ]
  },
  {
   "cell_type": "code",
   "execution_count": 5,
   "id": "e9f5e001",
   "metadata": {},
   "outputs": [],
   "source": [
    "class ConfigurationManager:\n",
    "    def __init__(\n",
    "        self,\n",
    "        config_filepath=CONFIG_FILE_PATH,\n",
    "        params_filepath=PARAMS_FILE_PATH\n",
    "    ):\n",
    "        self.config = read_yaml(config_filepath)\n",
    "        self.params = read_yaml(params_filepath)\n",
    "        create_directories([self.config.artifacts_root])\n",
    "\n",
    "    def get_training_config(self) -> TrainingConfig:\n",
    "        training_config = self.config.training\n",
    "        artifacts_root = self.config.artifacts_root\n",
    "        trained_model_path = os.path.join(training_config.trained_model_path)\n",
    "        updated_base_model_path = os.path.join(self.config.prepare_base_model.updated_base_model_path)\n",
    "        training_data = os.path.join(self.config.data_ingestion.unzip_dir, \"data.zip\")\n",
    "        dataset_path = os.path.join(training_config.dataset_path)\n",
    "\n",
    "        create_directories([Path(training_config.root_dir)])\n",
    "\n",
    "        params = self.params\n",
    "        params_epochs = params.EPOCHS\n",
    "        params_batch_size = params.BATCH_SIZE\n",
    "        params_is_augmentation = params.AUGMENTATION\n",
    "        params_learning_rate = params.LEARNING_RATE\n",
    "        params_num_classes = params.NUM_CLASSES\n",
    "        params_image_size = params.IMAGE_SIZE\n",
    "        params_model_name = params.MODEL_NAME\n",
    "\n",
    "        training_config = TrainingConfig(\n",
    "            root_dir=Path(artifacts_root),\n",
    "            trained_model_path=Path(trained_model_path),\n",
    "            updated_base_model_path=Path(updated_base_model_path),\n",
    "            training_data_path=Path(training_data),\n",
    "            dataset_path=Path(dataset_path),\n",
    "            model_name=params_model_name,\n",
    "            params_epochs=params_epochs,\n",
    "            params_batch_size=params_batch_size,\n",
    "            params_is_augmentation=params_is_augmentation,\n",
    "            params_learning_rate=params_learning_rate,\n",
    "            params_num_classes=params_num_classes,\n",
    "            params_image_size=params_image_size\n",
    "        )\n",
    "\n",
    "        return training_config"
   ]
  },
  {
   "cell_type": "code",
   "execution_count": 6,
   "id": "e6ed0e4a",
   "metadata": {},
   "outputs": [],
   "source": [
    "import os\n",
    "import torch\n",
    "import torchvision.models as models\n",
    "import torchvision\n",
    "import time\n",
    "import tqdm\n",
    "from zipfile import ZipFile\n",
    "from FacialExpressionRecognition import logger\n",
    "from FacialExpressionRecognition.models.resnet34 import get_resnet34_model\n"
   ]
  },
  {
   "cell_type": "code",
   "execution_count": 7,
   "id": "2e825b94",
   "metadata": {},
   "outputs": [],
   "source": [
    "class Training:\n",
    "    def __init__(self, config: TrainingConfig):\n",
    "        self.config = config\n",
    "    \n",
    "    def get_model(self):\n",
    "        if self.config.model_name == \"resnet34\":\n",
    "            self.model = get_resnet34_model(num_classes=self.config.params_num_classes)\n",
    "            self.model.load_state_dict(torch.load(self.config.updated_base_model_path))\n",
    "            self.model.fc = torch.nn.Linear(self.model.fc.in_features, self.config.params_num_classes)\n",
    "            self.model.eval()\n",
    "        else:\n",
    "            raise ValueError(f\"Model {self.config.model_name} not supported.\")\n",
    "        \n",
    "\n",
    "    def extract_dataset(self):\n",
    "        with ZipFile(self.config.training_data_path, 'r') as zip_ref:\n",
    "            os.makedirs(self.config.dataset_path, exist_ok=True)\n",
    "            zip_ref.extractall(self.config.dataset_path)\n",
    "\n",
    "    def train(self):\n",
    "        train_transforms = torchvision.transforms.Compose([\n",
    "            torchvision.transforms.Resize((self.config.params_image_size[0], self.config.params_image_size[1])),\n",
    "            torchvision.transforms.ToTensor()\n",
    "        ])\n",
    "\n",
    "        self.extract_dataset()\n",
    "        \n",
    "        train_data = torchvision.datasets.ImageFolder(root=self.config.dataset_path, transform=train_transforms)\n",
    "        train_loader = torch.utils.data.DataLoader(train_data, batch_size=self.config.params_batch_size, shuffle=True)\n",
    "\n",
    "        device = torch.device(\"cuda\" if torch.cuda.is_available() else \"cpu\")\n",
    "        self.get_model()\n",
    "        self.model = self.model.to(device)\n",
    "\n",
    "        criterion = torch.nn.CrossEntropyLoss()\n",
    "        optimizer = torch.optim.Adam(self.model.parameters(), lr=self.config.params_learning_rate)\n",
    "\n",
    "        num_epochs = self.config.params_epochs\n",
    "\n",
    "        for epoch in range(num_epochs):\n",
    "            self.model.train()\n",
    "            running_loss = 0.0\n",
    "            for images, labels in tqdm.tqdm(train_loader):\n",
    "                images, labels = images.to(device), labels.to(device)\n",
    "\n",
    "                optimizer.zero_grad()\n",
    "\n",
    "                outputs = self.model(images)\n",
    "                loss = criterion(outputs, labels)\n",
    "                loss.backward()\n",
    "                optimizer.step()\n",
    "\n",
    "                running_loss += loss.item() * images.size(0)\n",
    "\n",
    "            epoch_loss = running_loss / len(train_loader.dataset)\n",
    "            print(f'Epoch [{epoch+1}/{num_epochs}], Loss: {epoch_loss:.4f}')\n",
    "\n",
    "        Training.save_model(self.model, self.config.trained_model_path)\n",
    "\n",
    "    @staticmethod\n",
    "    def save_model(model, path):\n",
    "        torch.save(model, path)\n",
    "        logger.info(f\"Model saved at {path}\")"
   ]
  },
  {
   "cell_type": "code",
   "execution_count": 9,
   "id": "de5589e1",
   "metadata": {},
   "outputs": [
    {
     "name": "stdout",
     "output_type": "stream",
     "text": [
      "[2025-09-28 10:16:37,187: INFO: common]: yaml file: config\\config.yaml loaded successfully\n",
      "[2025-09-28 10:16:37,198: INFO: common]: yaml file: params.yaml loaded successfully\n",
      "[2025-09-28 10:16:37,199: INFO: common]: Directory created at: artifacts\n",
      "[2025-09-28 10:16:37,200: INFO: common]: Directory created at: artifacts\\training\n"
     ]
    },
    {
     "name": "stderr",
     "output_type": "stream",
     "text": [
      "100%|██████████| 561/561 [09:56<00:00,  1.06s/it]"
     ]
    },
    {
     "name": "stdout",
     "output_type": "stream",
     "text": [
      "Epoch [1/1], Loss: 0.0035\n",
      "[2025-09-28 10:26:43,975: INFO: 3183951286]: Model saved at artifacts\\training\\model.h5\n",
      "[2025-09-28 10:26:43,987: INFO: 4016484038]: Training completed successfully.\n"
     ]
    },
    {
     "name": "stderr",
     "output_type": "stream",
     "text": [
      "\n"
     ]
    }
   ],
   "source": [
    "try:\n",
    "    config = ConfigurationManager()\n",
    "    training_config = config.get_training_config()\n",
    "    training = Training(config=training_config)\n",
    "    training.get_model()\n",
    "    training.train()\n",
    "    logger.info(\"Training completed successfully.\")\n",
    "except Exception as e:\n",
    "    logger.exception(e)\n",
    "    raise e"
   ]
  },
  {
   "cell_type": "code",
   "execution_count": null,
   "id": "6704c1b9",
   "metadata": {},
   "outputs": [],
   "source": []
  }
 ],
 "metadata": {
  "kernelspec": {
   "display_name": "FER",
   "language": "python",
   "name": "python3"
  },
  "language_info": {
   "codemirror_mode": {
    "name": "ipython",
    "version": 3
   },
   "file_extension": ".py",
   "mimetype": "text/x-python",
   "name": "python",
   "nbconvert_exporter": "python",
   "pygments_lexer": "ipython3",
   "version": "3.10.18"
  }
 },
 "nbformat": 4,
 "nbformat_minor": 5
}
