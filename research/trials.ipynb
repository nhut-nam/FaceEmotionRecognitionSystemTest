{
 "cells": [
  {
   "cell_type": "markdown",
   "id": "57af5dbc",
   "metadata": {},
   "source": [
    "## Download data from google drive"
   ]
  },
  {
   "cell_type": "code",
   "execution_count": 3,
   "id": "0d843989",
   "metadata": {},
   "outputs": [],
   "source": [
    "import gdown"
   ]
  },
  {
   "cell_type": "code",
   "execution_count": 4,
   "id": "402fa63e",
   "metadata": {},
   "outputs": [],
   "source": [
    "url = \"https://drive.google.com/file/d/10cuSJ1L8N5CT5cmLvieyCf5TFtEz1lLy/view?usp=sharing\""
   ]
  },
  {
   "cell_type": "code",
   "execution_count": 5,
   "id": "878f9b79",
   "metadata": {},
   "outputs": [
    {
     "data": {
      "text/plain": [
       "'10cuSJ1L8N5CT5cmLvieyCf5TFtEz1lLy'"
      ]
     },
     "execution_count": 5,
     "metadata": {},
     "output_type": "execute_result"
    }
   ],
   "source": [
    "file_id = url.split(\"/\")[-2]\n",
    "file_id"
   ]
  },
  {
   "cell_type": "code",
   "execution_count": 7,
   "id": "448ebfa1",
   "metadata": {},
   "outputs": [
    {
     "name": "stderr",
     "output_type": "stream",
     "text": [
      "Downloading...\n",
      "From (original): https://drive.google.com/uc?/export=download&id=10cuSJ1L8N5CT5cmLvieyCf5TFtEz1lLy\n",
      "From (redirected): https://drive.google.com/uc?%2Fexport=download&id=10cuSJ1L8N5CT5cmLvieyCf5TFtEz1lLy&confirm=t&uuid=0a50e9c4-3df8-45e9-bf02-1f99e20b34dc\n",
      "To: f:\\ProjectAI\\FaceEmotionRecognitionSystem\\research\\fer2013.zip\n",
      "100%|██████████| 40.0M/40.0M [00:00<00:00, 43.4MB/s]\n"
     ]
    },
    {
     "data": {
      "text/plain": [
       "'fer2013.zip'"
      ]
     },
     "execution_count": 7,
     "metadata": {},
     "output_type": "execute_result"
    }
   ],
   "source": [
    "prefix = \"https://drive.google.com/uc?/export=download&id=\"\n",
    "gdown.download(prefix + file_id, \"fer2013.zip\")"
   ]
  },
  {
   "cell_type": "code",
   "execution_count": null,
   "id": "029bb899",
   "metadata": {},
   "outputs": [],
   "source": []
  }
 ],
 "metadata": {
  "kernelspec": {
   "display_name": "FER",
   "language": "python",
   "name": "python3"
  },
  "language_info": {
   "codemirror_mode": {
    "name": "ipython",
    "version": 3
   },
   "file_extension": ".py",
   "mimetype": "text/x-python",
   "name": "python",
   "nbconvert_exporter": "python",
   "pygments_lexer": "ipython3",
   "version": "3.10.18"
  }
 },
 "nbformat": 4,
 "nbformat_minor": 5
}
